{
 "cells": [
  {
   "cell_type": "code",
   "execution_count": 6,
   "id": "8d2e3ac6-6714-41ad-a8f5-59f7a6f36620",
   "metadata": {
    "execution": {
     "iopub.execute_input": "2025-04-09T10:51:14.361896Z",
     "iopub.status.busy": "2025-04-09T10:51:14.360676Z",
     "iopub.status.idle": "2025-04-09T10:51:23.341736Z",
     "shell.execute_reply": "2025-04-09T10:51:23.341206Z",
     "shell.execute_reply.started": "2025-04-09T10:51:14.361896Z"
    }
   },
   "outputs": [],
   "source": [
    "# ----------- Imports -----------\n",
    "import pandas as pd \n",
    "import numpy as np \n",
    "import seaborn as sns \n",
    "import matplotlib.pyplot as plt \n",
    "import tensorflow  # For future ML use\n",
    "import sklearn     # For preprocessing & modeling\n",
    "\n",
    "# ----------- Load Dataset -----------\n",
    "df = pd.read_csv(r\"C:\\Users\\mvenk\\Downloads\\products.csv\")"
   ]
  },
  {
   "cell_type": "code",
   "execution_count": 7,
   "id": "88fefeff-9444-4b45-aec7-e69ad9646c33",
   "metadata": {
    "execution": {
     "iopub.execute_input": "2025-04-09T10:51:23.342748Z",
     "iopub.status.busy": "2025-04-09T10:51:23.342748Z",
     "iopub.status.idle": "2025-04-09T10:51:23.398857Z",
     "shell.execute_reply": "2025-04-09T10:51:23.398857Z",
     "shell.execute_reply.started": "2025-04-09T10:51:23.342748Z"
    }
   },
   "outputs": [
    {
     "name": "stdout",
     "output_type": "stream",
     "text": [
      "(10000, 14)\n",
      "  Product ID Product Name Product Category Product Description   Price  \\\n",
      "0   93TGNAY7       Laptop  Home Appliances       Product_XU5QX  253.17   \n",
      "1   TYYZ5AV7   Smartphone         Clothing       Product_NRUMS  214.37   \n",
      "2   5C94FGTQ   Headphones         Clothing       Product_IT7HG  475.29   \n",
      "3   XBHKYPQB      Monitor         Clothing       Product_8SBDO  403.33   \n",
      "4   728GCZFU       Laptop  Home Appliances       Product_54FAF  229.81   \n",
      "\n",
      "   Stock Quantity  Warranty Period Product Dimensions Manufacturing Date  \\\n",
      "0               3                2        16x15x15 cm         2023-01-01   \n",
      "1              92                2        15x19x19 cm         2023-03-15   \n",
      "2              19                2           9x6x6 cm         2023-03-15   \n",
      "3              40                1          7x13x5 cm         2023-01-01   \n",
      "4              32                2        20x20x19 cm         2023-07-30   \n",
      "\n",
      "  Expiration Date     SKU Product Tags Color/Size Variations  Product Ratings  \n",
      "0      2026-01-01  8NMFZ4      VNU,NZ6           Green/Large                2  \n",
      "1      2025-01-01  7P5YCW      ZJA,0D3             Red/Small                2  \n",
      "2      2026-01-01  YW5BME      ZNG,MAP             Red/Small                1  \n",
      "3      2026-01-01  65MQC3      RPP,M40           Green/Large                1  \n",
      "4      2026-01-01  RLCBRW      R8U,X46           Blue/Medium                4  \n",
      "     Product ID Product Name Product Category Product Description   Price  \\\n",
      "9995   J29B6RDI   Headphones         Clothing       Product_NI8C7   21.48   \n",
      "9996   L1HL7437       Laptop         Clothing       Product_8RR6T  403.92   \n",
      "9997   FD57S4E1       Laptop  Home Appliances       Product_GYAWW  484.46   \n",
      "9998   RPYLOB1M   Headphones         Clothing       Product_K3M9M  411.63   \n",
      "9999   3JWTGTOM       Laptop         Clothing       Product_I0ACF   74.38   \n",
      "\n",
      "      Stock Quantity  Warranty Period Product Dimensions Manufacturing Date  \\\n",
      "9995              91                3         10x16x9 cm         2023-03-15   \n",
      "9996              19                2          13x8x5 cm         2023-01-01   \n",
      "9997              13                2         5x15x15 cm         2023-01-01   \n",
      "9998              79                1        17x11x17 cm         2023-07-30   \n",
      "9999              81                1          6x6x16 cm         2023-01-01   \n",
      "\n",
      "     Expiration Date     SKU Product Tags Color/Size Variations  \\\n",
      "9995      2026-01-01  0IQPXX      M81,8WN           Blue/Medium   \n",
      "9996      2024-01-01  HW1HV1      0UM,L4B             Red/Small   \n",
      "9997      2024-01-01  MKJ0UW      GO4,EZE             Red/Small   \n",
      "9998      2026-01-01  INSC1B      0QB,U55             Red/Small   \n",
      "9999      2025-01-01  UH0U3R      C5R,TZN           Blue/Medium   \n",
      "\n",
      "      Product Ratings  \n",
      "9995                1  \n",
      "9996                4  \n",
      "9997                1  \n",
      "9998                1  \n",
      "9999                1  \n",
      "              Price  Stock Quantity  Warranty Period  Product Ratings\n",
      "count  10000.000000    10000.000000     10000.000000     10000.000000\n",
      "mean     254.665715       50.647100         2.014000         3.004700\n",
      "std      142.755688       28.901977         0.817968         1.419676\n",
      "min       10.220000        1.000000         1.000000         1.000000\n",
      "25%      129.985000       25.000000         1.000000         2.000000\n",
      "50%      253.425000       51.000000         2.000000         3.000000\n",
      "75%      379.970000       76.000000         3.000000         4.000000\n",
      "max      499.970000      100.000000         3.000000         5.000000\n",
      "<class 'pandas.core.frame.DataFrame'>\n",
      "RangeIndex: 10000 entries, 0 to 9999\n",
      "Data columns (total 14 columns):\n",
      " #   Column                 Non-Null Count  Dtype  \n",
      "---  ------                 --------------  -----  \n",
      " 0   Product ID             10000 non-null  object \n",
      " 1   Product Name           10000 non-null  object \n",
      " 2   Product Category       10000 non-null  object \n",
      " 3   Product Description    10000 non-null  object \n",
      " 4   Price                  10000 non-null  float64\n",
      " 5   Stock Quantity         10000 non-null  int64  \n",
      " 6   Warranty Period        10000 non-null  int64  \n",
      " 7   Product Dimensions     10000 non-null  object \n",
      " 8   Manufacturing Date     10000 non-null  object \n",
      " 9   Expiration Date        10000 non-null  object \n",
      " 10  SKU                    10000 non-null  object \n",
      " 11  Product Tags           10000 non-null  object \n",
      " 12  Color/Size Variations  10000 non-null  object \n",
      " 13  Product Ratings        10000 non-null  int64  \n",
      "dtypes: float64(1), int64(3), object(10)\n",
      "memory usage: 1.1+ MB\n",
      "None\n",
      "Index(['Product ID', 'Product Name', 'Product Category', 'Product Description',\n",
      "       'Price', 'Stock Quantity', 'Warranty Period', 'Product Dimensions',\n",
      "       'Manufacturing Date', 'Expiration Date', 'SKU', 'Product Tags',\n",
      "       'Color/Size Variations', 'Product Ratings'],\n",
      "      dtype='object')\n"
     ]
    }
   ],
   "source": [
    "\n",
    "# ----------- Initial Exploration -----------\n",
    "print(df.shape)        # Rows x Columns\n",
    "print(df.head())       # First 5 rows\n",
    "print(df.tail())       # Last 5 rows\n",
    "print(df.describe())   # Stats summary\n",
    "print(df.info())       # Column info\n",
    "print(df.columns)      # Column names\n"
   ]
  },
  {
   "cell_type": "code",
   "execution_count": 8,
   "id": "37bc5b5c-ba51-4064-b9b7-791178ec6c08",
   "metadata": {
    "execution": {
     "iopub.execute_input": "2025-04-09T10:51:23.400144Z",
     "iopub.status.busy": "2025-04-09T10:51:23.400144Z",
     "iopub.status.idle": "2025-04-09T10:51:23.423425Z",
     "shell.execute_reply": "2025-04-09T10:51:23.423425Z",
     "shell.execute_reply.started": "2025-04-09T10:51:23.400144Z"
    }
   },
   "outputs": [],
   "source": [
    "# ----------- Date Conversion -----------\n",
    "df['Manufacturing Date'] = pd.to_datetime(df[\"Manufacturing Date\"], errors='coerce')\n",
    "df['Expiration Date'] = pd.to_datetime(df[\"Expiration Date\"], errors='coerce')\n"
   ]
  },
  {
   "cell_type": "code",
   "execution_count": 9,
   "id": "2280e21e-4dda-4056-a393-f2d20861bc3f",
   "metadata": {
    "execution": {
     "iopub.execute_input": "2025-04-09T10:51:23.423425Z",
     "iopub.status.busy": "2025-04-09T10:51:23.423425Z",
     "iopub.status.idle": "2025-04-09T10:51:23.435422Z",
     "shell.execute_reply": "2025-04-09T10:51:23.435422Z",
     "shell.execute_reply.started": "2025-04-09T10:51:23.423425Z"
    }
   },
   "outputs": [],
   "source": [
    "# ----------- Create New Columns from Dates -----------\n",
    "df['Shelf_Life_Days'] = (df['Expiration Date'] - df[\"Manufacturing Date\"]).dt.days"
   ]
  },
  {
   "cell_type": "code",
   "execution_count": 10,
   "id": "a3ac1204-d3c8-4d80-91f5-3a6a244206ae",
   "metadata": {
    "execution": {
     "iopub.execute_input": "2025-04-09T10:51:23.437515Z",
     "iopub.status.busy": "2025-04-09T10:51:23.435422Z",
     "iopub.status.idle": "2025-04-09T10:51:23.442429Z",
     "shell.execute_reply": "2025-04-09T10:51:23.442429Z",
     "shell.execute_reply.started": "2025-04-09T10:51:23.437515Z"
    }
   },
   "outputs": [],
   "source": [
    "# ----------- Clean Column Names -----------\n",
    "df.columns = df.columns.str.strip().str.replace(\" \", \"_\")"
   ]
  },
  {
   "cell_type": "code",
   "execution_count": 11,
   "id": "e0c136e3-2d45-4e94-a404-75954afa4e39",
   "metadata": {
    "execution": {
     "iopub.execute_input": "2025-04-09T10:51:23.444242Z",
     "iopub.status.busy": "2025-04-09T10:51:23.442429Z",
     "iopub.status.idle": "2025-04-09T10:51:23.465394Z",
     "shell.execute_reply": "2025-04-09T10:51:23.465394Z",
     "shell.execute_reply.started": "2025-04-09T10:51:23.444242Z"
    }
   },
   "outputs": [
    {
     "name": "stdout",
     "output_type": "stream",
     "text": [
      "Duplicate rows: 0\n"
     ]
    }
   ],
   "source": [
    "# ----------- Check Duplicates -----------\n",
    "duplicates = df.duplicated().sum()\n",
    "print(\"Duplicate rows:\", duplicates)\n"
   ]
  },
  {
   "cell_type": "code",
   "execution_count": 12,
   "id": "1ce1e413-aab3-4800-98ef-846ac4be9146",
   "metadata": {
    "execution": {
     "iopub.execute_input": "2025-04-09T10:51:23.466403Z",
     "iopub.status.busy": "2025-04-09T10:51:23.466403Z",
     "iopub.status.idle": "2025-04-09T10:51:23.473384Z",
     "shell.execute_reply": "2025-04-09T10:51:23.473384Z",
     "shell.execute_reply.started": "2025-04-09T10:51:23.466403Z"
    }
   },
   "outputs": [],
   "source": [
    "\n",
    "# ----------- Data Type Conversion -----------\n",
    "df['Price'] = pd.to_numeric(df['Price'], errors='coerce')\n",
    "df['Stock_Quantity'] = pd.to_numeric(df['Stock_Quantity'], errors='coerce')\n",
    "df['Product_Ratings'] = pd.to_numeric(df['Product_Ratings'], errors='coerce')"
   ]
  },
  {
   "cell_type": "code",
   "execution_count": 13,
   "id": "ee73ee63-46ad-4e49-b178-dcbc5eb2aba8",
   "metadata": {
    "execution": {
     "iopub.execute_input": "2025-04-09T10:51:23.475466Z",
     "iopub.status.busy": "2025-04-09T10:51:23.473384Z",
     "iopub.status.idle": "2025-04-09T10:51:23.501013Z",
     "shell.execute_reply": "2025-04-09T10:51:23.501013Z",
     "shell.execute_reply.started": "2025-04-09T10:51:23.475466Z"
    }
   },
   "outputs": [],
   "source": [
    "\n",
    "# ----------- Redundant Re-conversion (Safety Check) -----------\n",
    "df['Manufacturing_Date'] = pd.to_datetime(df[\"Manufacturing_Date\"], errors='coerce')\n",
    "df[\"Expiration_Date\"] = pd.to_datetime(df[\"Expiration_Date\"], errors='coerce')\n"
   ]
  },
  {
   "cell_type": "code",
   "execution_count": 14,
   "id": "86e11310-0c1c-4e93-92ff-9980c620097b",
   "metadata": {
    "execution": {
     "iopub.execute_input": "2025-04-09T10:51:23.503020Z",
     "iopub.status.busy": "2025-04-09T10:51:23.502019Z",
     "iopub.status.idle": "2025-04-09T10:51:23.541430Z",
     "shell.execute_reply": "2025-04-09T10:51:23.541430Z",
     "shell.execute_reply.started": "2025-04-09T10:51:23.503020Z"
    }
   },
   "outputs": [],
   "source": [
    "# ----------- Convert Specified Categorical Columns to 'category' Type -----------\n",
    "categorical_cols = ['Product_Name', 'Product_Category', \n",
    "                    'Product_Description', 'Product_Dimensions', \n",
    "                    'SKU', 'Product_Tags', 'Color/Size_Variations']\n",
    "for col in categorical_cols:\n",
    "    df[col] = df[col].astype('category')"
   ]
  },
  {
   "cell_type": "code",
   "execution_count": 15,
   "id": "eb8d54fc-bc5b-4070-a961-80f5178f71e2",
   "metadata": {
    "execution": {
     "iopub.execute_input": "2025-04-09T10:51:23.546458Z",
     "iopub.status.busy": "2025-04-09T10:51:23.544182Z",
     "iopub.status.idle": "2025-04-09T10:51:23.584918Z",
     "shell.execute_reply": "2025-04-09T10:51:23.584918Z",
     "shell.execute_reply.started": "2025-04-09T10:51:23.546458Z"
    }
   },
   "outputs": [
    {
     "name": "stdout",
     "output_type": "stream",
     "text": [
      "<class 'pandas.core.frame.DataFrame'>\n",
      "RangeIndex: 10000 entries, 0 to 9999\n",
      "Data columns (total 15 columns):\n",
      " #   Column                 Non-Null Count  Dtype         \n",
      "---  ------                 --------------  -----         \n",
      " 0   Product_ID             10000 non-null  object        \n",
      " 1   Product_Name           10000 non-null  category      \n",
      " 2   Product_Category       10000 non-null  category      \n",
      " 3   Product_Description    10000 non-null  category      \n",
      " 4   Price                  10000 non-null  float64       \n",
      " 5   Stock_Quantity         10000 non-null  int64         \n",
      " 6   Warranty_Period        10000 non-null  int64         \n",
      " 7   Product_Dimensions     10000 non-null  category      \n",
      " 8   Manufacturing_Date     10000 non-null  datetime64[ns]\n",
      " 9   Expiration_Date        10000 non-null  datetime64[ns]\n",
      " 10  SKU                    10000 non-null  category      \n",
      " 11  Product_Tags           10000 non-null  category      \n",
      " 12  Color/Size_Variations  10000 non-null  category      \n",
      " 13  Product_Ratings        10000 non-null  int64         \n",
      " 14  Shelf_Life_Days        10000 non-null  int64         \n",
      "dtypes: category(7), datetime64[ns](2), float64(1), int64(4), object(1)\n",
      "memory usage: 1.9+ MB\n",
      "None\n",
      "<class 'pandas.core.frame.DataFrame'>\n",
      "RangeIndex: 10000 entries, 0 to 9999\n",
      "Data columns (total 3 columns):\n",
      " #   Column           Non-Null Count  Dtype  \n",
      "---  ------           --------------  -----  \n",
      " 0   Price            10000 non-null  float64\n",
      " 1   Stock_Quantity   10000 non-null  int64  \n",
      " 2   Product_Ratings  10000 non-null  int64  \n",
      "dtypes: float64(1), int64(2)\n",
      "memory usage: 234.5 KB\n",
      "None\n",
      "    Price  Stock_Quantity  Product_Ratings\n",
      "0  253.17               3                2\n",
      "1  214.37              92                2\n",
      "2  475.29              19                1\n",
      "3  403.33              40                1\n",
      "4  229.81              32                4\n"
     ]
    }
   ],
   "source": [
    "# ----------- Check Updated Info -----------\n",
    "print(df.info())\n",
    "print(df[['Price', 'Stock_Quantity', 'Product_Ratings']].info())\n",
    "print(df[['Price', 'Stock_Quantity', 'Product_Ratings']].head())"
   ]
  },
  {
   "cell_type": "code",
   "execution_count": 16,
   "id": "203f5cb6-e359-4709-ac45-9de61b1446f1",
   "metadata": {
    "execution": {
     "iopub.execute_input": "2025-04-09T10:51:23.586925Z",
     "iopub.status.busy": "2025-04-09T10:51:23.586925Z",
     "iopub.status.idle": "2025-04-09T10:51:23.599668Z",
     "shell.execute_reply": "2025-04-09T10:51:23.599668Z",
     "shell.execute_reply.started": "2025-04-09T10:51:23.586925Z"
    }
   },
   "outputs": [],
   "source": [
    "# ----------- Date-Derived Features -----------\n",
    "df['Days_Until_Expiry'] = (df['Expiration_Date'] - pd.Timestamp.today()).dt.days\n",
    "df['Product_Age_Days'] = (pd.Timestamp.today() - df['Manufacturing_Date']).dt.days\n"
   ]
  },
  {
   "cell_type": "code",
   "execution_count": 17,
   "id": "28d040c6-ae6d-437c-abf3-fffaa4e2b0ce",
   "metadata": {
    "execution": {
     "iopub.execute_input": "2025-04-09T10:51:23.600685Z",
     "iopub.status.busy": "2025-04-09T10:51:23.600685Z",
     "iopub.status.idle": "2025-04-09T10:51:23.608964Z",
     "shell.execute_reply": "2025-04-09T10:51:23.608964Z",
     "shell.execute_reply.started": "2025-04-09T10:51:23.600685Z"
    }
   },
   "outputs": [],
   "source": [
    "# ----------- Strip Whitespaces in Categorical Columns -----------\n",
    "df[categorical_cols] = df[categorical_cols].apply(lambda x: x.str.strip() if x.dtype == 'object' else x)\n"
   ]
  },
  {
   "cell_type": "code",
   "execution_count": 18,
   "id": "2ef6b9e3-1185-4470-9a7d-880e66d98dfe",
   "metadata": {
    "execution": {
     "iopub.execute_input": "2025-04-09T10:51:23.611790Z",
     "iopub.status.busy": "2025-04-09T10:51:23.610779Z",
     "iopub.status.idle": "2025-04-09T10:51:23.658295Z",
     "shell.execute_reply": "2025-04-09T10:51:23.658295Z",
     "shell.execute_reply.started": "2025-04-09T10:51:23.610779Z"
    }
   },
   "outputs": [
    {
     "name": "stdout",
     "output_type": "stream",
     "text": [
      "Product_ID               0\n",
      "Product_Name             0\n",
      "Product_Category         0\n",
      "Product_Description      0\n",
      "Price                    0\n",
      "Stock_Quantity           0\n",
      "Warranty_Period          0\n",
      "Product_Dimensions       0\n",
      "Manufacturing_Date       0\n",
      "Expiration_Date          0\n",
      "SKU                      0\n",
      "Product_Tags             0\n",
      "Color/Size_Variations    0\n",
      "Product_Ratings          0\n",
      "Shelf_Life_Days          0\n",
      "Days_Until_Expiry        0\n",
      "Product_Age_Days         0\n",
      "dtype: int64\n"
     ]
    }
   ],
   "source": [
    "# ----------- Handle Missing Values -----------\n",
    "print(df.isnull().sum())\n",
    "# Use one of the below lines based on needs:\n",
    "# df.dropna(inplace=True)           # Remove rows with nulls\n",
    "# df.fillna(method='ffill', inplace=True)  # Forward fill as example\n",
    "\n",
    "# ----------- Encode Categorical Variables -----------\n",
    "from sklearn.preprocessing import LabelEncoder\n",
    "label_enc = LabelEncoder()\n",
    "for col in categorical_cols:\n",
    "    if df[col].nunique() <= 2: \n",
    "        df[col] = label_enc.fit_transform(df[col])  # Binary columns only"
   ]
  },
  {
   "cell_type": "code",
   "execution_count": 19,
   "id": "33d1844f-8f75-4481-aac2-d53ef37492e3",
   "metadata": {
    "execution": {
     "iopub.execute_input": "2025-04-09T10:51:23.660759Z",
     "iopub.status.busy": "2025-04-09T10:51:23.659753Z",
     "iopub.status.idle": "2025-04-09T10:51:23.672680Z",
     "shell.execute_reply": "2025-04-09T10:51:23.671670Z",
     "shell.execute_reply.started": "2025-04-09T10:51:23.659753Z"
    }
   },
   "outputs": [
    {
     "name": "stdout",
     "output_type": "stream",
     "text": [
      "Stock Quantity by Price:\n",
      " Price\n",
      "75.16     272\n",
      "343.92    261\n",
      "367.79    256\n",
      "413.24    245\n",
      "11.02     242\n",
      "         ... \n",
      "96.46       1\n",
      "386.46      1\n",
      "384.04      1\n",
      "32.76       1\n",
      "54.02       1\n",
      "Name: Stock_Quantity, Length: 9036, dtype: int64\n"
     ]
    }
   ],
   "source": [
    "# ----------- Sum of Stock Quantity per Price -----------\n",
    "sum_stock = df.groupby('Price')['Stock_Quantity'].sum().sort_values(ascending=False)\n",
    "print(\"Stock Quantity by Price:\\n\", sum_stock)"
   ]
  },
  {
   "cell_type": "code",
   "execution_count": 20,
   "id": "b3293bfe-d1cb-4cd6-91cc-af53c9792cef",
   "metadata": {
    "execution": {
     "iopub.execute_input": "2025-04-09T10:51:23.674092Z",
     "iopub.status.busy": "2025-04-09T10:51:23.672680Z",
     "iopub.status.idle": "2025-04-09T10:51:23.685311Z",
     "shell.execute_reply": "2025-04-09T10:51:23.685311Z",
     "shell.execute_reply.started": "2025-04-09T10:51:23.674092Z"
    }
   },
   "outputs": [
    {
     "name": "stdout",
     "output_type": "stream",
     "text": [
      "Unique Products per Price:\n",
      " Price\n",
      "10.22     1\n",
      "10.25     1\n",
      "10.27     1\n",
      "10.32     1\n",
      "10.36     1\n",
      "         ..\n",
      "499.74    1\n",
      "499.77    2\n",
      "499.84    1\n",
      "499.86    1\n",
      "499.97    1\n",
      "Name: Product_ID, Length: 9036, dtype: int64\n"
     ]
    }
   ],
   "source": [
    "unique_products = df.groupby(\"Price\")['Product_ID'].nunique()\n",
    "print(\"Unique Products per Price:\\n\", unique_products)"
   ]
  },
  {
   "cell_type": "code",
   "execution_count": 21,
   "id": "d48695bb-60f1-47bc-9d87-2a98deeecf30",
   "metadata": {
    "execution": {
     "iopub.execute_input": "2025-04-09T10:51:23.686532Z",
     "iopub.status.busy": "2025-04-09T10:51:23.686532Z",
     "iopub.status.idle": "2025-04-09T10:51:23.719149Z",
     "shell.execute_reply": "2025-04-09T10:51:23.719149Z",
     "shell.execute_reply.started": "2025-04-09T10:51:23.686532Z"
    }
   },
   "outputs": [
    {
     "name": "stdout",
     "output_type": "stream",
     "text": [
      "Category-wise Aggregation:\n",
      "                            Price                Stock_Quantity  \\\n",
      "                             mean    min     max            sum   \n",
      "Original_Product_Category                                         \n",
      "Clothing                   251.79  10.25  499.97         169548   \n",
      "Electronics                253.43  10.22  499.77         170705   \n",
      "Home Appliances            258.84  10.27  499.71         166218   \n",
      "\n",
      "                          Product_Ratings Shelf_Life_Days Days_Until_Expiry  \\\n",
      "                                     mean            mean              mean   \n",
      "Original_Product_Category                                                     \n",
      "Clothing                             3.02          644.14            -94.41   \n",
      "Electronics                          2.98          638.69            -99.66   \n",
      "Home Appliances                      3.01          636.33            -99.22   \n",
      "\n",
      "                          Product_Age_Days  \n",
      "                                      mean  \n",
      "Original_Product_Category                   \n",
      "Clothing                            737.55  \n",
      "Electronics                         737.36  \n",
      "Home Appliances                     734.55  \n"
     ]
    },
    {
     "name": "stderr",
     "output_type": "stream",
     "text": [
      "C:\\Users\\mvenk\\AppData\\Local\\Temp\\ipykernel_16740\\1051194607.py:25: FutureWarning: The default of observed=False is deprecated and will be changed to True in a future version of pandas. Pass observed=False to retain current behavior or observed=True to adopt the future default and silence this warning.\n",
      "  category_agg = df.groupby(\"Original_Product_Category\").agg({\n"
     ]
    }
   ],
   "source": [
    "# ----------- Save Original Product_Category for EDA Before Encoding -----------\n",
    "df['Original_Product_Category'] = df['Product_Category']  # Save a copy for grouping later\n",
    "\n",
    "# ----------- Limit to Low-Cardinality Categorical Columns -----------\n",
    "categorical_cols = ['Product_Category', 'Color/Size_Variations']\n",
    "\n",
    "# ----------- Reduce Infrequent Categories to 'Other' -----------\n",
    "for col in categorical_cols:\n",
    "    top_vals = df[col].value_counts().nlargest(10).index\n",
    "    df[col] = df[col].apply(lambda x: x if x in top_vals else 'Other')\n",
    "\n",
    "# ----------- Encode Categorical Variables (LabelEncoder + OneHotEncoding) -----------\n",
    "from sklearn.preprocessing import LabelEncoder\n",
    "label_enc = LabelEncoder()\n",
    "\n",
    "# Apply Label Encoding if binary\n",
    "for col in categorical_cols:\n",
    "    if df[col].nunique() <= 2:\n",
    "        df[col] = label_enc.fit_transform(df[col])\n",
    "\n",
    "# Apply One-Hot Encoding for rest\n",
    "df = pd.get_dummies(df, columns=[col for col in categorical_cols if df[col].nunique() > 2], drop_first=True)\n",
    "\n",
    "# ----------- EDA: Category-Level Aggregation -----------\n",
    "category_agg = df.groupby(\"Original_Product_Category\").agg({\n",
    "    'Price': ['mean', 'min', 'max'],\n",
    "    'Stock_Quantity': 'sum',\n",
    "    'Product_Ratings': 'mean',\n",
    "    'Shelf_Life_Days': 'mean',\n",
    "    'Days_Until_Expiry': 'mean',\n",
    "    'Product_Age_Days': 'mean'\n",
    "}).round(2)\n",
    "\n",
    "print(\"Category-wise Aggregation:\")\n",
    "print(category_agg)\n",
    "\n"
   ]
  },
  {
   "cell_type": "code",
   "execution_count": 22,
   "id": "52862842-ca8f-4653-8d6e-41267a274e62",
   "metadata": {
    "execution": {
     "iopub.execute_input": "2025-04-09T10:51:23.720591Z",
     "iopub.status.busy": "2025-04-09T10:51:23.720591Z",
     "iopub.status.idle": "2025-04-09T10:51:23.730710Z",
     "shell.execute_reply": "2025-04-09T10:51:23.729984Z",
     "shell.execute_reply.started": "2025-04-09T10:51:23.720591Z"
    }
   },
   "outputs": [
    {
     "name": "stdout",
     "output_type": "stream",
     "text": [
      "Avg Ratings by Color/Size_Variations_Green/Large :\n",
      " Color/Size_Variations_Green/Large\n",
      "False    3.012381\n",
      "True     2.989078\n",
      "Name: Product_Ratings, dtype: float64\n"
     ]
    }
   ],
   "source": [
    "# ----------- Average Ratings by a Dummy Column (Example) -----------`\n",
    "# NOTE: Replace with a valid one-hot column name that exists in your df\n",
    "example_col = [col for col in df.columns if 'Color/Size_Variations' in col]\n",
    "if example_col:\n",
    "    avg_rating = df.groupby(example_col[0])['Product_Ratings'].mean().sort_values(ascending=False)\n",
    "    print(\"Avg Ratings by\", example_col[0], \":\\n\", avg_rating.head(10))"
   ]
  },
  {
   "cell_type": "code",
   "execution_count": 23,
   "id": "86529d51-ea85-494c-8845-682598125a3f",
   "metadata": {
    "execution": {
     "iopub.execute_input": "2025-04-09T10:51:23.732717Z",
     "iopub.status.busy": "2025-04-09T10:51:23.732717Z",
     "iopub.status.idle": "2025-04-09T10:51:23.738867Z",
     "shell.execute_reply": "2025-04-09T10:51:23.737945Z",
     "shell.execute_reply.started": "2025-04-09T10:51:23.732717Z"
    },
    "scrolled": true
   },
   "outputs": [
    {
     "name": "stdout",
     "output_type": "stream",
     "text": [
      "Final Shape: (10000, 20)\n",
      "Index(['Product_ID', 'Product_Name', 'Product_Description', 'Price',\n",
      "       'Stock_Quantity', 'Warranty_Period', 'Product_Dimensions',\n",
      "       'Manufacturing_Date', 'Expiration_Date', 'SKU', 'Product_Tags',\n",
      "       'Product_Ratings', 'Shelf_Life_Days', 'Days_Until_Expiry',\n",
      "       'Product_Age_Days', 'Original_Product_Category',\n",
      "       'Product_Category_Electronics', 'Product_Category_Home Appliances',\n",
      "       'Color/Size_Variations_Green/Large', 'Color/Size_Variations_Red/Small'],\n",
      "      dtype='object')\n"
     ]
    }
   ],
   "source": [
    "# ----------- Final Check -----------\n",
    "print(\"Final Shape:\", df.shape)\n",
    "print(df.columns)"
   ]
  },
  {
   "cell_type": "code",
   "execution_count": 24,
   "id": "a7ab0e89-a229-4c01-9075-f4066d4b797a",
   "metadata": {
    "execution": {
     "iopub.execute_input": "2025-04-09T10:51:23.740327Z",
     "iopub.status.busy": "2025-04-09T10:51:23.738867Z",
     "iopub.status.idle": "2025-04-09T10:51:23.748555Z",
     "shell.execute_reply": "2025-04-09T10:51:23.746533Z",
     "shell.execute_reply.started": "2025-04-09T10:51:23.740327Z"
    }
   },
   "outputs": [
    {
     "data": {
      "text/plain": [
       "(10000, 20)"
      ]
     },
     "execution_count": 24,
     "metadata": {},
     "output_type": "execute_result"
    }
   ],
   "source": [
    "df.shape"
   ]
  },
  {
   "cell_type": "code",
   "execution_count": 25,
   "id": "688f5d87-a149-46e2-a953-e8b8f5a8b1e8",
   "metadata": {
    "execution": {
     "iopub.execute_input": "2025-04-09T10:51:23.750256Z",
     "iopub.status.busy": "2025-04-09T10:51:23.749727Z",
     "iopub.status.idle": "2025-04-09T10:51:23.759679Z",
     "shell.execute_reply": "2025-04-09T10:51:23.758452Z",
     "shell.execute_reply.started": "2025-04-09T10:51:23.750256Z"
    }
   },
   "outputs": [],
   "source": [
    "category_agg.sort_values(('Price', 'mean'), ascending=False, inplace=True)\n"
   ]
  },
  {
   "cell_type": "code",
   "execution_count": 26,
   "id": "eedfc4cf-e0d4-4867-a962-9161b88f08db",
   "metadata": {
    "execution": {
     "iopub.execute_input": "2025-04-09T10:51:23.761888Z",
     "iopub.status.busy": "2025-04-09T10:51:23.760394Z",
     "iopub.status.idle": "2025-04-09T10:51:23.848158Z",
     "shell.execute_reply": "2025-04-09T10:51:23.848158Z",
     "shell.execute_reply.started": "2025-04-09T10:51:23.761888Z"
    },
    "scrolled": true
   },
   "outputs": [],
   "source": [
    "df.to_csv(r\"E:\\cleanes.csv\", index=False)"
   ]
  },
  {
   "cell_type": "code",
   "execution_count": 27,
   "id": "f8181d4b-fb89-4de7-a69f-1696eafb11c5",
   "metadata": {
    "execution": {
     "iopub.execute_input": "2025-04-09T10:51:23.850477Z",
     "iopub.status.busy": "2025-04-09T10:51:23.849900Z",
     "iopub.status.idle": "2025-04-09T10:51:24.048934Z",
     "shell.execute_reply": "2025-04-09T10:51:24.048934Z",
     "shell.execute_reply.started": "2025-04-09T10:51:23.850477Z"
    }
   },
   "outputs": [
    {
     "data": {
      "image/png": "[encoded data removed]",
      "text/plain": [
       "<Figure size 640x480 with 1 Axes>"
      ]
     },
     "metadata": {},
     "output_type": "display_data"
    }
   ],
   "source": [
    "category_agg['Price']['mean'].plot(kind='bar', title='Average Price by Category')\n",
    "plt.ylabel(\"Price\")\n",
    "plt.show()\n"
   ]
  },
  {
   "cell_type": "markdown",
   "id": "728b424d-2ea9-4ac2-a6ef-93a4661ccf33",
   "metadata": {},
   "source": [
    "4.multiple aggregations "
   ]
  },
  {
   "cell_type": "code",
   "execution_count": 29,
   "id": "7e690283-45c3-47aa-bd5f-e5ae24e6a2cf",
   "metadata": {
    "execution": {
     "iopub.execute_input": "2025-04-09T10:51:25.062045Z",
     "iopub.status.busy": "2025-04-09T10:51:25.061012Z",
     "iopub.status.idle": "2025-04-09T10:51:25.069879Z",
     "shell.execute_reply": "2025-04-09T10:51:25.069247Z",
     "shell.execute_reply.started": "2025-04-09T10:51:25.062045Z"
    }
   },
   "outputs": [
    {
     "data": {
      "text/plain": [
       "Index(['Product_ID', 'Product_Name', 'Product_Description', 'Price',\n",
       "       'Stock_Quantity', 'Warranty_Period', 'Product_Dimensions',\n",
       "       'Manufacturing_Date', 'Expiration_Date', 'SKU', 'Product_Tags',\n",
       "       'Product_Ratings', 'Shelf_Life_Days', 'Days_Until_Expiry',\n",
       "       'Product_Age_Days', 'Original_Product_Category',\n",
       "       'Product_Category_Electronics', 'Product_Category_Home Appliances',\n",
       "       'Color/Size_Variations_Green/Large', 'Color/Size_Variations_Red/Small'],\n",
       "      dtype='object')"
      ]
     },
     "execution_count": 29,
     "metadata": {},
     "output_type": "execute_result"
    }
   ],
   "source": [
    "df.columns"
   ]
  },
  {
   "cell_type": "code",
   "execution_count": 30,
   "id": "c3594962-521d-46d4-a51f-712ba426e6c4",
   "metadata": {
    "execution": {
     "iopub.execute_input": "2025-04-09T10:51:25.072038Z",
     "iopub.status.busy": "2025-04-09T10:51:25.071367Z",
     "iopub.status.idle": "2025-04-09T10:51:25.105483Z",
     "shell.execute_reply": "2025-04-09T10:51:25.104473Z",
     "shell.execute_reply.started": "2025-04-09T10:51:25.072038Z"
    }
   },
   "outputs": [
    {
     "name": "stdout",
     "output_type": "stream",
     "text": [
      "                                Price                Stock_Quantity  \\\n",
      "                                 mean    min     max            sum   \n",
      "Original_Product_Category                                             \n",
      "Clothing                   251.790928  10.25  499.97         169548   \n",
      "Electronics                253.427581  10.22  499.77         170705   \n",
      "Home Appliances            258.839770  10.27  499.71         166218   \n",
      "\n",
      "                          Product_Ratings  \n",
      "                                     mean  \n",
      "Original_Product_Category                  \n",
      "Clothing                         3.017959  \n",
      "Electronics                      2.982148  \n",
      "Home Appliances                  3.014251  \n"
     ]
    },
    {
     "name": "stderr",
     "output_type": "stream",
     "text": [
      "C:\\Users\\mvenk\\AppData\\Local\\Temp\\ipykernel_16740\\1597718663.py:1: FutureWarning: The default of observed=False is deprecated and will be changed to True in a future version of pandas. Pass observed=False to retain current behavior or observed=True to adopt the future default and silence this warning.\n",
      "  category_agg = df.groupby('Original_Product_Category').agg({\n"
     ]
    }
   ],
   "source": [
    "category_agg = df.groupby('Original_Product_Category').agg({\n",
    "    'Price': ['mean', 'min', 'max'],\n",
    "    'Stock_Quantity': 'sum',\n",
    "    'Product_Ratings': 'mean'\n",
    "})\n",
    "print(category_agg)\n"
   ]
  },
  {
   "cell_type": "code",
   "execution_count": 31,
   "id": "8946b61c-0382-438f-ac1b-a88423c9eeb8",
   "metadata": {
    "execution": {
     "iopub.execute_input": "2025-04-09T10:51:25.107046Z",
     "iopub.status.busy": "2025-04-09T10:51:25.106531Z",
     "iopub.status.idle": "2025-04-09T10:51:25.113380Z",
     "shell.execute_reply": "2025-04-09T10:51:25.112874Z",
     "shell.execute_reply.started": "2025-04-09T10:51:25.107046Z"
    }
   },
   "outputs": [],
   "source": [
    "# histogram Price ditribution"
   ]
  },
  {
   "cell_type": "code",
   "execution_count": 32,
   "id": "d5ee6a65-3f96-4d91-b594-9a6360b2fe6f",
   "metadata": {
    "execution": {
     "iopub.execute_input": "2025-04-09T10:51:25.115557Z",
     "iopub.status.busy": "2025-04-09T10:51:25.114545Z",
     "iopub.status.idle": "2025-04-09T10:51:25.315578Z",
     "shell.execute_reply": "2025-04-09T10:51:25.314570Z",
     "shell.execute_reply.started": "2025-04-09T10:51:25.115557Z"
    }
   },
   "outputs": [
    {
     "data": {
      "image/png": "[encoded data removed]",
      "text/plain": [
       "<Figure size 1000x500 with 1 Axes>"
      ]
     },
     "metadata": {},
     "output_type": "display_data"
    }
   ],
   "source": [
    "df['Price'].plot(kind = 'hist',bins = 20,figsize=(10,5),title = \"Price Distribution\",color='skyblue')\n",
    "plt.xlabel(\"Price\")\n",
    "plt.grid(True)\n",
    "plt.show()"
   ]
  },
  {
   "cell_type": "code",
   "execution_count": 33,
   "id": "3def1fb0-3f25-4103-8f73-97366aef7909",
   "metadata": {
    "execution": {
     "iopub.execute_input": "2025-04-09T10:51:25.322400Z",
     "iopub.status.busy": "2025-04-09T10:51:25.322400Z",
     "iopub.status.idle": "2025-04-09T10:51:25.328295Z",
     "shell.execute_reply": "2025-04-09T10:51:25.327288Z",
     "shell.execute_reply.started": "2025-04-09T10:51:25.322400Z"
    }
   },
   "outputs": [
    {
     "data": {
      "text/plain": [
       "Index(['Product_ID', 'Product_Name', 'Product_Description', 'Price',\n",
       "       'Stock_Quantity', 'Warranty_Period', 'Product_Dimensions',\n",
       "       'Manufacturing_Date', 'Expiration_Date', 'SKU', 'Product_Tags',\n",
       "       'Product_Ratings', 'Shelf_Life_Days', 'Days_Until_Expiry',\n",
       "       'Product_Age_Days', 'Original_Product_Category',\n",
       "       'Product_Category_Electronics', 'Product_Category_Home Appliances',\n",
       "       'Color/Size_Variations_Green/Large', 'Color/Size_Variations_Red/Small'],\n",
       "      dtype='object')"
      ]
     },
     "execution_count": 33,
     "metadata": {},
     "output_type": "execute_result"
    }
   ],
   "source": [
    "df.columns"
   ]
  },
  {
   "cell_type": "code",
   "execution_count": 34,
   "id": "fd7adb8f-c1e8-4ca0-b879-d76a5f95a258",
   "metadata": {
    "execution": {
     "iopub.execute_input": "2025-04-09T10:51:25.329314Z",
     "iopub.status.busy": "2025-04-09T10:51:25.329314Z",
     "iopub.status.idle": "2025-04-09T10:51:25.530685Z",
     "shell.execute_reply": "2025-04-09T10:51:25.529679Z",
     "shell.execute_reply.started": "2025-04-09T10:51:25.329314Z"
    }
   },
   "outputs": [
    {
     "data": {
      "image/png": "[encoded data removed]",
      "text/plain": [
       "<Figure size 1200x600 with 1 Axes>"
      ]
     },
     "metadata": {},
     "output_type": "display_data"
    }
   ],
   "source": [
    "plt.figure(figsize=(12,6))\n",
    "sns.boxplot(x='Original_Product_Category', y='Product_Ratings', data=df)\n",
    "plt.xticks(rotation=45)\n",
    "plt.title(\"Ratings by Product Category\")\n",
    "plt.show()\n"
   ]
  },
  {
   "cell_type": "code",
   "execution_count": null,
   "id": "ed4f4448-a592-4b40-8d5b-03e888efc18d",
   "metadata": {
    "execution": {
     "iopub.execute_input": "2025-04-09T10:51:25.531687Z",
     "iopub.status.busy": "2025-04-09T10:51:25.530685Z"
    }
   },
   "outputs": [],
   "source": [
    "sum_stock.plot(kind='bar', figsize=(12,6), color='teal')\n",
    "plt.title(\"Total Stock per Product Category\")\n",
    "plt.ylabel(\"Stock Quantity\")\n",
    "plt.xticks(rotation=45)\n",
    "plt.show()\n"
   ]
  },
  {
   "cell_type": "markdown",
   "id": "32008bda-b3c3-4437-9cf0-401da1d3ccb8",
   "metadata": {},
   "source": [
    "# pair plot key metrics "
   ]
  },
  {
   "cell_type": "code",
   "execution_count": null,
   "id": "7dd9ae57-e25a-4b23-9ecb-c087000d7bcf",
   "metadata": {},
   "outputs": [],
   "source": [
    "sns.pairplot(df[['Price','Stock_Quantity','Product_Ratings']])\n",
    "plt.suptitle('Pairwise Relationships',y=1.02)\n",
    "plt.show()"
   ]
  },
  {
   "cell_type": "markdown",
   "id": "7d63bf99-fb7f-45e0-a043-be91a4dc8e43",
   "metadata": {},
   "source": [
    "# correlations Heatmap"
   ]
  },
  {
   "cell_type": "code",
   "execution_count": null,
   "id": "08e13d38-7720-48bb-8e57-05a56461fa70",
   "metadata": {},
   "outputs": [],
   "source": [
    "plt.figure(figsize=(10,8))\n",
    "sns.heatmap(df[[\"Price\",\"Stock_Quantity\",\"Product_Ratings\"]].corr(),annot=True,cmap= \"coolwarm\")\n",
    "plt.title(\"Correlation Heatmap\")\n",
    "plt.show()"
   ]
  },
  {
   "cell_type": "markdown",
   "id": "1034ed9d-1749-407d-99da-499d4c95aafb",
   "metadata": {},
   "source": [
    " # Time Series Plot – Products by Manufacturing Year"
   ]
  },
  {
   "cell_type": "code",
   "execution_count": null,
   "id": "72a5aa39-5ba8-4a92-8c52-212e35711344",
   "metadata": {},
   "outputs": [],
   "source": [
    "df.columns"
   ]
  },
  {
   "cell_type": "code",
   "execution_count": null,
   "id": "fc4856c3-7636-47b3-a059-c8fb0419de6f",
   "metadata": {},
   "outputs": [],
   "source": [
    "df['Manufacturing Month'] = df['Manufacturing_Date'].dt.to_period('M')\n",
    "monthly_trend = df.groupby('Manufacturing Month')['Price'].mean()\n",
    "\n",
    "monthly_trend.plot(kind='line', marker='o', figsize=(12, 5), title=\"Average Price Trend Over Time\")\n",
    "plt.ylabel(\"Average Price\")\n",
    "plt.grid(True)\n",
    "plt.show()\n"
   ]
  },
  {
   "cell_type": "markdown",
   "id": "2412e09b-1715-4477-97bc-56cd440ea80b",
   "metadata": {},
   "source": [
    "Univariate Analysis (Distribution) & Boxplots to Detect Outliers"
   ]
  },
  {
   "cell_type": "code",
   "execution_count": null,
   "id": "81803fb3-96d1-47da-b3cf-4346832359cf",
   "metadata": {},
   "outputs": [],
   "source": [
    "plt.figure(figsize=(10,5))\n",
    "sns.boxenplot(df['Price'])\n",
    "plt.title(\"Boxplot - Detect Outliers in Price\")\n",
    "plt.show()"
   ]
  },
  {
   "cell_type": "markdown",
   "id": "789f1227-641f-46da-8cb4-1dd8515e228d",
   "metadata": {},
   "source": [
    "bivariate releation ships"
   ]
  },
  {
   "cell_type": "code",
   "execution_count": null,
   "id": "2ee092a8-c5b1-42a3-9073-8763fcf68607",
   "metadata": {},
   "outputs": [],
   "source": [
    "sns.lmplot(x='Price', y='Product_Ratings', data=df, hue='Original_Product_Category', height=6, aspect=1.5)\n",
    "plt.title(\"Linear Relationship: Price vs Rating by Category\")\n",
    "plt.show()\n"
   ]
  },
  {
   "cell_type": "markdown",
   "id": "6acd695f-5671-420a-94ea-997028ce037a",
   "metadata": {},
   "source": [
    " Bar Plot for Grouped Summary (Avg Price, Stock, Ratings)"
   ]
  },
  {
   "cell_type": "code",
   "execution_count": null,
   "id": "88b3c43b-30dc-450c-8777-953902f55ae2",
   "metadata": {},
   "outputs": [],
   "source": [
    "category_group = df.groupby('Original_Product_Category')[['Price', 'Stock_Quantity', 'Product_Ratings']].mean().sort_values(by='Price', ascending=False)\n",
    "category_group.plot(kind='bar', figsize=(12, 6))\n",
    "plt.title(\"Average Price, Stock, and Rating per Product Category\")\n",
    "plt.ylabel(\"Average Value\")\n",
    "plt.xticks(rotation=45)\n",
    "plt.show()\n"
   ]
  },
  {
   "cell_type": "code",
   "execution_count": null,
   "id": "573a1d16-0627-449c-9a05-18ea01033a09",
   "metadata": {},
   "outputs": [],
   "source": []
  },
  {
   "cell_type": "code",
   "execution_count": null,
   "id": "b567cc01-92e1-46c1-ba27-3c201df2d499",
   "metadata": {},
   "outputs": [],
   "source": []
  }
 ],
 "metadata": {
  "firstTimeUsingHintbot": true,
  "kernelspec": {
   "display_name": "Python (DEEPLEARNING)",
   "language": "python",
   "name": "deeplearning"
  },
  "language_info": {
   "codemirror_mode": {
    "name": "ipython",
    "version": 3
   },
   "file_extension": ".py",
   "mimetype": "text/x-python",
   "name": "python",
   "nbconvert_exporter": "python",
   "pygments_lexer": "ipython3",
   "version": "3.11.9"
  }
 },
 "nbformat": 4,
 "nbformat_minor": 5
}
